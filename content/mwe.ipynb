{
 "metadata": {
  "kernelspec": {
   "name": "python",
   "display_name": "Python (Pyodide)",
   "language": "python"
  },
  "language_info": {
   "codemirror_mode": {
    "name": "python",
    "version": 3
   },
   "file_extension": ".py",
   "mimetype": "text/x-python",
   "name": "python",
   "nbconvert_exporter": "python",
   "pygments_lexer": "ipython3",
   "version": "3.8"
  }
 },
 "nbformat_minor": 5,
 "nbformat": 4,
 "cells": [
  {
   "id": "fba3bb50-9670-4055-90c1-448519703a71",
   "cell_type": "code",
   "source": [
    "import micropip\n",
    "import pyodide_js\n",
    "await pyodide_js.loadPackage(\"https://makslevental.github.io/mlir-python-wasm/files/mlir_python_bindings-21.0.0.2025062201-cp312-cp312-pyodide_2024_0_wasm32.whl\")\n",
    "await micropip.install(\"emfs:mlir_python_extras-0.0.8.2025062302-py3-none-any.whl\")\n",
    "await pyodide_js.loadPackage([\"numpy\", \"pyyaml\"])"
   ],
   "metadata": {
    "trusted": true
   },
   "outputs": [],
   "execution_count": null
  },
  {
   "id": "f33176f7-1bc1-40a8-ae71-cef7d26c637e",
   "cell_type": "code",
   "source": "import numpy as np\n\nimport mlir.extras.types as T\nfrom mlir.extras.ast.canonicalize import canonicalize\nfrom mlir.extras.context import mlir_mod_ctx\nfrom mlir.extras.dialects.ext.arith import constant\nfrom mlir.extras.dialects.ext.memref import S\nfrom mlir.extras.dialects.ext.func import func\nfrom mlir.extras.dialects.ext.scf import canonicalizer as scf, range_\nfrom mlir.extras.runtime.passes import Pipeline, run_pipeline\nfrom mlir.extras.runtime.refbackend import LLVMJITBackend\nfrom mlir.ir import StridedLayoutAttr\n\n# you need this to register the memref value caster\n# noinspection PyUnresolvedReferences\nimport mlir.extras.dialects.ext.memref\n\nctx_man = mlir_mod_ctx()\nctx = ctx_man.__enter__()",
   "metadata": {
    "trusted": true
   },
   "outputs": [],
   "execution_count": null
  },
  {
   "id": "4743fc93-af2c-4d6b-8220-3d293d78b8a9",
   "cell_type": "code",
   "source": "K = 256\nD = 32\n\nF = K // D\nranked_memref_kxk_f32 = T.memref(K, K, T.f32())\nlayout = StridedLayoutAttr.get(S, (K, 1))\nranked_memref_dxd_f32 = T.memref(D, D, T.f32(), layout=layout)\n\n@func(emit=True)\n@canonicalize(using=scf)\ndef tile(\n    A: ranked_memref_dxd_f32, B: ranked_memref_dxd_f32, C: ranked_memref_dxd_f32\n):\n    for i in range_(0, D):\n        for j in range_(0, D):\n            C[i, j] = A[i, j] + B[i, j]\n\n@func(emit=True)\n@canonicalize(using=scf)\ndef tiled_memfoo(\n    A: ranked_memref_kxk_f32, B: ranked_memref_kxk_f32, C: ranked_memref_kxk_f32\n):\n    for i in range_(0, F):\n        for j in range_(0, F):\n            l = lambda l: l * D\n            r = lambda r: (r + 1) * D\n            a, b, c = (\n                A[l(i) : r(i), l(j) : r(j)],\n                B[l(i) : r(i), l(j) : r(j)],\n                C[l(i) : r(i), l(j) : r(j)],\n            )\n            tile(a, b, c)",
   "metadata": {
    "trusted": true
   },
   "outputs": [],
   "execution_count": null
  },
  {
   "id": "0243cb6c-86f9-4604-b932-dd5802122dfa",
   "cell_type": "code",
   "source": "module = run_pipeline(ctx.module, str(Pipeline().cse()))\nprint(module)\nctx_man.__exit__(None, None, None);",
   "metadata": {
    "trusted": true
   },
   "outputs": [],
   "execution_count": null
  }
 ]
}
